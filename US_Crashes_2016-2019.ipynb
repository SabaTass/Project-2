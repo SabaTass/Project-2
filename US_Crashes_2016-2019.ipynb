{
 "cells": [
  {
   "cell_type": "code",
   "execution_count": 2,
   "metadata": {},
   "outputs": [],
   "source": [
    "crashes_df = pd.read_csv('US_Accidents_May19.csv')"
   ]
  },
  {
   "cell_type": "code",
<<<<<<< HEAD
   "execution_count": 3,
   "metadata": {},
   "outputs": [],
   "source": [
    "#crashes_df"
   ]
  },
  {
   "cell_type": "code",
   "execution_count": 37,
   "metadata": {},
   "outputs": [
    {
     "name": "stdout",
     "output_type": "stream",
     "text": [
      "[201. 241. 247. 246. 341. 406. 245. 248. 200. 244. 203. 229. 222. 202.\n",
      " 206. 343. 236. 239. 336. 339. 351.  nan]\n"
     ]
    }
   ],
   "source": [
    "print(crashes_df.TMC.unique())"
   ]
  },
  {
   "cell_type": "code",
   "execution_count": 5,
   "metadata": {},
   "outputs": [
    {
     "data": {
      "text/plain": [
       "21"
      ]
     },
     "execution_count": 5,
     "metadata": {},
     "output_type": "execute_result"
    }
   ],
   "source": [
    "crashes_df['TMC'].nunique()"
   ]
  },
  {
   "cell_type": "code",
   "execution_count": 39,
   "metadata": {},
   "outputs": [
    {
     "data": {
      "text/plain": [
       "516762"
      ]
     },
     "execution_count": 39,
     "metadata": {},
     "output_type": "execute_result"
    }
   ],
   "source": [
    "# counting the number of null (NaN) values are in the TMC field\n",
    "len(crashes_df) - crashes_df['TMC'].count()\n"
   ]
  },
  {
   "cell_type": "code",
   "execution_count": 40,
   "metadata": {},
   "outputs": [
    {
     "name": "stdout",
     "output_type": "stream",
     "text": [
      "['2016-02-08 05:46:00' '2016-02-08 06:07:59' '2016-02-08 06:49:27' ...\n",
      " '2017-08-30 19:48:10' '2017-08-30 20:01:40' '2017-08-30 20:49:40']\n"
     ]
    }
   ],
   "source": [
    "print(crashes_df.Start_Time.unique())"
   ]
  },
  {
   "cell_type": "code",
   "execution_count": 7,
   "metadata": {},
   "outputs": [
    {
     "data": {
      "text/plain": [
       "1458402"
      ]
     },
     "execution_count": 7,
     "metadata": {},
     "output_type": "execute_result"
    }
   ],
   "source": [
    "# counting the number of null (NaN) values are in the Street Number field\n",
    "len(crashes_df) - crashes_df['Number'].count()"
   ]
  },
  {
   "cell_type": "code",
   "execution_count": 8,
   "metadata": {},
   "outputs": [],
   "source": [
    "# replace street number with 100 if null (NaN)\n",
    "crashes_df['Number'] = crashes_df['Number'].replace(np.nan, 100)"
   ]
  },
  {
   "cell_type": "code",
   "execution_count": 9,
   "metadata": {},
   "outputs": [
    {
     "data": {
      "text/plain": [
       "0"
      ]
     },
     "execution_count": 9,
     "metadata": {},
     "output_type": "execute_result"
    }
   ],
   "source": [
    "# calculating the number of null values are in the NUMBER field now\n",
    "len(crashes_df) - crashes_df['Number'].count()"
   ]
  },
  {
   "cell_type": "code",
   "execution_count": 10,
=======
   "execution_count": 4,
>>>>>>> f03d4eeafa141512d58258b33ace911700c465c9
   "metadata": {},
   "outputs": [
    {
     "data": {
<<<<<<< HEAD
      "text/plain": [
       "201.0    1464118\n",
       "241.0     150939\n",
       "245.0      27509\n",
       "229.0      21957\n",
       "203.0      14114\n",
       "222.0      11576\n",
       "244.0       8416\n",
       "406.0       6824\n",
       "202.0       5102\n",
       "246.0       4739\n",
       "247.0       4133\n",
       "343.0       2847\n",
       "236.0       1919\n",
       "248.0        952\n",
       "206.0        857\n",
       "339.0        629\n",
       "341.0        361\n",
       "200.0         66\n",
       "336.0         62\n",
       "239.0         51\n",
       "351.0          6\n",
       "Name: TMC, dtype: int64"
      ]
     },
     "execution_count": 10,
=======
      "text/html": [
       "<div>\n",
       "<style scoped>\n",
       "    .dataframe tbody tr th:only-of-type {\n",
       "        vertical-align: middle;\n",
       "    }\n",
       "\n",
       "    .dataframe tbody tr th {\n",
       "        vertical-align: top;\n",
       "    }\n",
       "\n",
       "    .dataframe thead th {\n",
       "        text-align: right;\n",
       "    }\n",
       "</style>\n",
       "<table border=\"1\" class=\"dataframe\">\n",
       "  <thead>\n",
       "    <tr style=\"text-align: right;\">\n",
       "      <th></th>\n",
       "      <th>ID</th>\n",
       "      <th>Source</th>\n",
       "      <th>TMC</th>\n",
       "      <th>Severity</th>\n",
       "      <th>Start_Time</th>\n",
       "      <th>End_Time</th>\n",
       "      <th>Start_Lat</th>\n",
       "      <th>Start_Lng</th>\n",
       "      <th>End_Lat</th>\n",
       "      <th>End_Lng</th>\n",
       "      <th>...</th>\n",
       "      <th>Roundabout</th>\n",
       "      <th>Station</th>\n",
       "      <th>Stop</th>\n",
       "      <th>Traffic_Calming</th>\n",
       "      <th>Traffic_Signal</th>\n",
       "      <th>Turning_Loop</th>\n",
       "      <th>Sunrise_Sunset</th>\n",
       "      <th>Civil_Twilight</th>\n",
       "      <th>Nautical_Twilight</th>\n",
       "      <th>Astronomical_Twilight</th>\n",
       "    </tr>\n",
       "  </thead>\n",
       "  <tbody>\n",
       "    <tr>\n",
       "      <td>0</td>\n",
       "      <td>A-1</td>\n",
       "      <td>MapQuest</td>\n",
       "      <td>201.0</td>\n",
       "      <td>3</td>\n",
       "      <td>2016-02-08 05:46:00</td>\n",
       "      <td>2016-02-08 11:00:00</td>\n",
       "      <td>39.865147</td>\n",
       "      <td>-84.058723</td>\n",
       "      <td>NaN</td>\n",
       "      <td>NaN</td>\n",
       "      <td>...</td>\n",
       "      <td>False</td>\n",
       "      <td>False</td>\n",
       "      <td>False</td>\n",
       "      <td>False</td>\n",
       "      <td>False</td>\n",
       "      <td>False</td>\n",
       "      <td>Night</td>\n",
       "      <td>Night</td>\n",
       "      <td>Night</td>\n",
       "      <td>Night</td>\n",
       "    </tr>\n",
       "    <tr>\n",
       "      <td>1</td>\n",
       "      <td>A-2</td>\n",
       "      <td>MapQuest</td>\n",
       "      <td>201.0</td>\n",
       "      <td>2</td>\n",
       "      <td>2016-02-08 06:07:59</td>\n",
       "      <td>2016-02-08 06:37:59</td>\n",
       "      <td>39.928059</td>\n",
       "      <td>-82.831184</td>\n",
       "      <td>NaN</td>\n",
       "      <td>NaN</td>\n",
       "      <td>...</td>\n",
       "      <td>False</td>\n",
       "      <td>False</td>\n",
       "      <td>False</td>\n",
       "      <td>False</td>\n",
       "      <td>False</td>\n",
       "      <td>False</td>\n",
       "      <td>Night</td>\n",
       "      <td>Night</td>\n",
       "      <td>Night</td>\n",
       "      <td>Day</td>\n",
       "    </tr>\n",
       "    <tr>\n",
       "      <td>2</td>\n",
       "      <td>A-3</td>\n",
       "      <td>MapQuest</td>\n",
       "      <td>201.0</td>\n",
       "      <td>2</td>\n",
       "      <td>2016-02-08 06:49:27</td>\n",
       "      <td>2016-02-08 07:19:27</td>\n",
       "      <td>39.063148</td>\n",
       "      <td>-84.032608</td>\n",
       "      <td>NaN</td>\n",
       "      <td>NaN</td>\n",
       "      <td>...</td>\n",
       "      <td>False</td>\n",
       "      <td>False</td>\n",
       "      <td>False</td>\n",
       "      <td>False</td>\n",
       "      <td>True</td>\n",
       "      <td>False</td>\n",
       "      <td>Night</td>\n",
       "      <td>Night</td>\n",
       "      <td>Day</td>\n",
       "      <td>Day</td>\n",
       "    </tr>\n",
       "    <tr>\n",
       "      <td>3</td>\n",
       "      <td>A-4</td>\n",
       "      <td>MapQuest</td>\n",
       "      <td>201.0</td>\n",
       "      <td>3</td>\n",
       "      <td>2016-02-08 07:23:34</td>\n",
       "      <td>2016-02-08 07:53:34</td>\n",
       "      <td>39.747753</td>\n",
       "      <td>-84.205582</td>\n",
       "      <td>NaN</td>\n",
       "      <td>NaN</td>\n",
       "      <td>...</td>\n",
       "      <td>False</td>\n",
       "      <td>False</td>\n",
       "      <td>False</td>\n",
       "      <td>False</td>\n",
       "      <td>False</td>\n",
       "      <td>False</td>\n",
       "      <td>Night</td>\n",
       "      <td>Day</td>\n",
       "      <td>Day</td>\n",
       "      <td>Day</td>\n",
       "    </tr>\n",
       "    <tr>\n",
       "      <td>4</td>\n",
       "      <td>A-5</td>\n",
       "      <td>MapQuest</td>\n",
       "      <td>201.0</td>\n",
       "      <td>2</td>\n",
       "      <td>2016-02-08 07:39:07</td>\n",
       "      <td>2016-02-08 08:09:07</td>\n",
       "      <td>39.627781</td>\n",
       "      <td>-84.188354</td>\n",
       "      <td>NaN</td>\n",
       "      <td>NaN</td>\n",
       "      <td>...</td>\n",
       "      <td>False</td>\n",
       "      <td>False</td>\n",
       "      <td>False</td>\n",
       "      <td>False</td>\n",
       "      <td>True</td>\n",
       "      <td>False</td>\n",
       "      <td>Day</td>\n",
       "      <td>Day</td>\n",
       "      <td>Day</td>\n",
       "      <td>Day</td>\n",
       "    </tr>\n",
       "    <tr>\n",
       "      <td>...</td>\n",
       "      <td>...</td>\n",
       "      <td>...</td>\n",
       "      <td>...</td>\n",
       "      <td>...</td>\n",
       "      <td>...</td>\n",
       "      <td>...</td>\n",
       "      <td>...</td>\n",
       "      <td>...</td>\n",
       "      <td>...</td>\n",
       "      <td>...</td>\n",
       "      <td>...</td>\n",
       "      <td>...</td>\n",
       "      <td>...</td>\n",
       "      <td>...</td>\n",
       "      <td>...</td>\n",
       "      <td>...</td>\n",
       "      <td>...</td>\n",
       "      <td>...</td>\n",
       "      <td>...</td>\n",
       "      <td>...</td>\n",
       "      <td>...</td>\n",
       "    </tr>\n",
       "    <tr>\n",
       "      <td>2243934</td>\n",
       "      <td>A-2243935</td>\n",
       "      <td>Bing</td>\n",
       "      <td>NaN</td>\n",
       "      <td>2</td>\n",
       "      <td>2017-08-30 20:01:40</td>\n",
       "      <td>2017-08-31 02:01:40</td>\n",
       "      <td>34.055160</td>\n",
       "      <td>-118.214070</td>\n",
       "      <td>34.058220</td>\n",
       "      <td>-118.214270</td>\n",
       "      <td>...</td>\n",
       "      <td>False</td>\n",
       "      <td>False</td>\n",
       "      <td>False</td>\n",
       "      <td>False</td>\n",
       "      <td>False</td>\n",
       "      <td>False</td>\n",
       "      <td>Night</td>\n",
       "      <td>Night</td>\n",
       "      <td>Day</td>\n",
       "      <td>Day</td>\n",
       "    </tr>\n",
       "    <tr>\n",
       "      <td>2243935</td>\n",
       "      <td>A-2243936</td>\n",
       "      <td>Bing</td>\n",
       "      <td>NaN</td>\n",
       "      <td>2</td>\n",
       "      <td>2017-08-30 20:01:40</td>\n",
       "      <td>2017-08-31 02:01:40</td>\n",
       "      <td>34.046740</td>\n",
       "      <td>-118.214800</td>\n",
       "      <td>34.055160</td>\n",
       "      <td>-118.214070</td>\n",
       "      <td>...</td>\n",
       "      <td>False</td>\n",
       "      <td>False</td>\n",
       "      <td>False</td>\n",
       "      <td>False</td>\n",
       "      <td>False</td>\n",
       "      <td>False</td>\n",
       "      <td>Night</td>\n",
       "      <td>Night</td>\n",
       "      <td>Day</td>\n",
       "      <td>Day</td>\n",
       "    </tr>\n",
       "    <tr>\n",
       "      <td>2243936</td>\n",
       "      <td>A-2243937</td>\n",
       "      <td>Bing</td>\n",
       "      <td>NaN</td>\n",
       "      <td>3</td>\n",
       "      <td>2017-08-30 20:03:10</td>\n",
       "      <td>2017-08-31 02:03:10</td>\n",
       "      <td>34.031850</td>\n",
       "      <td>-117.135910</td>\n",
       "      <td>34.025370</td>\n",
       "      <td>-117.116160</td>\n",
       "      <td>...</td>\n",
       "      <td>False</td>\n",
       "      <td>False</td>\n",
       "      <td>False</td>\n",
       "      <td>False</td>\n",
       "      <td>False</td>\n",
       "      <td>False</td>\n",
       "      <td>Night</td>\n",
       "      <td>Night</td>\n",
       "      <td>Day</td>\n",
       "      <td>Day</td>\n",
       "    </tr>\n",
       "    <tr>\n",
       "      <td>2243937</td>\n",
       "      <td>A-2243938</td>\n",
       "      <td>Bing</td>\n",
       "      <td>NaN</td>\n",
       "      <td>4</td>\n",
       "      <td>2017-08-30 20:49:40</td>\n",
       "      <td>2017-08-31 02:49:40</td>\n",
       "      <td>34.277860</td>\n",
       "      <td>-118.608280</td>\n",
       "      <td>34.266581</td>\n",
       "      <td>-118.640372</td>\n",
       "      <td>...</td>\n",
       "      <td>False</td>\n",
       "      <td>False</td>\n",
       "      <td>False</td>\n",
       "      <td>False</td>\n",
       "      <td>False</td>\n",
       "      <td>False</td>\n",
       "      <td>Night</td>\n",
       "      <td>Night</td>\n",
       "      <td>Night</td>\n",
       "      <td>Night</td>\n",
       "    </tr>\n",
       "    <tr>\n",
       "      <td>2243938</td>\n",
       "      <td>A-2243939</td>\n",
       "      <td>Bing</td>\n",
       "      <td>NaN</td>\n",
       "      <td>4</td>\n",
       "      <td>2017-08-30 20:48:10</td>\n",
       "      <td>2017-08-31 02:48:10</td>\n",
       "      <td>34.324205</td>\n",
       "      <td>-118.502123</td>\n",
       "      <td>34.310790</td>\n",
       "      <td>-118.486670</td>\n",
       "      <td>...</td>\n",
       "      <td>False</td>\n",
       "      <td>False</td>\n",
       "      <td>False</td>\n",
       "      <td>False</td>\n",
       "      <td>False</td>\n",
       "      <td>False</td>\n",
       "      <td>Night</td>\n",
       "      <td>Night</td>\n",
       "      <td>Night</td>\n",
       "      <td>Day</td>\n",
       "    </tr>\n",
       "  </tbody>\n",
       "</table>\n",
       "<p>2243939 rows × 49 columns</p>\n",
       "</div>"
      ],
      "text/plain": [
       "                ID    Source    TMC  Severity           Start_Time  \\\n",
       "0              A-1  MapQuest  201.0         3  2016-02-08 05:46:00   \n",
       "1              A-2  MapQuest  201.0         2  2016-02-08 06:07:59   \n",
       "2              A-3  MapQuest  201.0         2  2016-02-08 06:49:27   \n",
       "3              A-4  MapQuest  201.0         3  2016-02-08 07:23:34   \n",
       "4              A-5  MapQuest  201.0         2  2016-02-08 07:39:07   \n",
       "...            ...       ...    ...       ...                  ...   \n",
       "2243934  A-2243935      Bing    NaN         2  2017-08-30 20:01:40   \n",
       "2243935  A-2243936      Bing    NaN         2  2017-08-30 20:01:40   \n",
       "2243936  A-2243937      Bing    NaN         3  2017-08-30 20:03:10   \n",
       "2243937  A-2243938      Bing    NaN         4  2017-08-30 20:49:40   \n",
       "2243938  A-2243939      Bing    NaN         4  2017-08-30 20:48:10   \n",
       "\n",
       "                    End_Time  Start_Lat   Start_Lng    End_Lat     End_Lng  \\\n",
       "0        2016-02-08 11:00:00  39.865147  -84.058723        NaN         NaN   \n",
       "1        2016-02-08 06:37:59  39.928059  -82.831184        NaN         NaN   \n",
       "2        2016-02-08 07:19:27  39.063148  -84.032608        NaN         NaN   \n",
       "3        2016-02-08 07:53:34  39.747753  -84.205582        NaN         NaN   \n",
       "4        2016-02-08 08:09:07  39.627781  -84.188354        NaN         NaN   \n",
       "...                      ...        ...         ...        ...         ...   \n",
       "2243934  2017-08-31 02:01:40  34.055160 -118.214070  34.058220 -118.214270   \n",
       "2243935  2017-08-31 02:01:40  34.046740 -118.214800  34.055160 -118.214070   \n",
       "2243936  2017-08-31 02:03:10  34.031850 -117.135910  34.025370 -117.116160   \n",
       "2243937  2017-08-31 02:49:40  34.277860 -118.608280  34.266581 -118.640372   \n",
       "2243938  2017-08-31 02:48:10  34.324205 -118.502123  34.310790 -118.486670   \n",
       "\n",
       "         ...  Roundabout Station   Stop Traffic_Calming Traffic_Signal  \\\n",
       "0        ...       False   False  False           False          False   \n",
       "1        ...       False   False  False           False          False   \n",
       "2        ...       False   False  False           False           True   \n",
       "3        ...       False   False  False           False          False   \n",
       "4        ...       False   False  False           False           True   \n",
       "...      ...         ...     ...    ...             ...            ...   \n",
       "2243934  ...       False   False  False           False          False   \n",
       "2243935  ...       False   False  False           False          False   \n",
       "2243936  ...       False   False  False           False          False   \n",
       "2243937  ...       False   False  False           False          False   \n",
       "2243938  ...       False   False  False           False          False   \n",
       "\n",
       "        Turning_Loop Sunrise_Sunset Civil_Twilight Nautical_Twilight  \\\n",
       "0              False          Night          Night             Night   \n",
       "1              False          Night          Night             Night   \n",
       "2              False          Night          Night               Day   \n",
       "3              False          Night            Day               Day   \n",
       "4              False            Day            Day               Day   \n",
       "...              ...            ...            ...               ...   \n",
       "2243934        False          Night          Night               Day   \n",
       "2243935        False          Night          Night               Day   \n",
       "2243936        False          Night          Night               Day   \n",
       "2243937        False          Night          Night             Night   \n",
       "2243938        False          Night          Night             Night   \n",
       "\n",
       "        Astronomical_Twilight  \n",
       "0                       Night  \n",
       "1                         Day  \n",
       "2                         Day  \n",
       "3                         Day  \n",
       "4                         Day  \n",
       "...                       ...  \n",
       "2243934                   Day  \n",
       "2243935                   Day  \n",
       "2243936                   Day  \n",
       "2243937                 Night  \n",
       "2243938                   Day  \n",
       "\n",
       "[2243939 rows x 49 columns]"
      ]
     },
     "execution_count": 4,
>>>>>>> f03d4eeafa141512d58258b33ace911700c465c9
     "metadata": {},
     "output_type": "execute_result"
    }
   ],
   "source": [
<<<<<<< HEAD
    "# trying to determine if TMC is worth keeping (I decided to drop it later below)\n",
    "TMC_count= crashes_df['TMC'].value_counts()\n",
    "TMC_count"
   ]
  },
  {
   "cell_type": "code",
   "execution_count": 11,
   "metadata": {},
   "outputs": [
    {
     "data": {
      "text/plain": [
       "100.0      1465768\n",
       "1.0           9975\n",
       "2.0           9718\n",
       "101.0         8083\n",
       "198.0         2687\n",
       "            ...   \n",
       "24938.0          1\n",
       "24936.0          1\n",
       "24934.0          1\n",
       "24932.0          1\n",
       "16411.0          1\n",
       "Name: Number, Length: 32326, dtype: int64"
      ]
     },
     "execution_count": 11,
     "metadata": {},
     "output_type": "execute_result"
    }
   ],
   "source": [
    "StNumber_count= crashes_df['Number'].value_counts()\n",
    "StNumber_count"
   ]
  },
  {
   "cell_type": "code",
   "execution_count": null,
   "metadata": {},
   "outputs": [],
   "source": []
  },
  {
   "cell_type": "code",
   "execution_count": 12,
   "metadata": {},
   "outputs": [
    {
     "data": {
      "text/plain": [
       "Index(['ID', 'Source', 'TMC', 'Severity', 'Start_Time', 'End_Time',\n",
       "       'Start_Lat', 'Start_Lng', 'End_Lat', 'End_Lng', 'Distance(mi)',\n",
       "       'Description', 'Number', 'Street', 'Side', 'City', 'County', 'State',\n",
       "       'Zipcode', 'Country', 'Timezone', 'Airport_Code', 'Weather_Timestamp',\n",
       "       'Temperature(F)', 'Wind_Chill(F)', 'Humidity(%)', 'Pressure(in)',\n",
       "       'Visibility(mi)', 'Wind_Direction', 'Wind_Speed(mph)',\n",
       "       'Precipitation(in)', 'Weather_Condition', 'Amenity', 'Bump', 'Crossing',\n",
       "       'Give_Way', 'Junction', 'No_Exit', 'Railway', 'Roundabout', 'Station',\n",
       "       'Stop', 'Traffic_Calming', 'Traffic_Signal', 'Turning_Loop',\n",
       "       'Sunrise_Sunset', 'Civil_Twilight', 'Nautical_Twilight',\n",
       "       'Astronomical_Twilight'],\n",
       "      dtype='object')"
      ]
     },
     "execution_count": 12,
     "metadata": {},
     "output_type": "execute_result"
    }
   ],
   "source": [
    "crashes_df.columns"
   ]
  },
  {
   "cell_type": "code",
   "execution_count": 13,
   "metadata": {},
   "outputs": [],
   "source": [
    "UScrashes2_df = crashes_df.drop(['TMC', 'Country', 'Airport_Code', 'Pressure(in)', 'Astronomical_Twilight', 'Nautical_Twilight', 'End_Lat', 'End_Lng', 'Distance(mi)', 'Source', 'Timezone'], axis=1)"
   ]
  },
  {
   "cell_type": "code",
   "execution_count": 14,
   "metadata": {},
   "outputs": [
    {
     "data": {
      "text/plain": [
       "Index(['ID', 'Severity', 'Start_Time', 'End_Time', 'Start_Lat', 'Start_Lng',\n",
       "       'Description', 'Number', 'Street', 'Side', 'City', 'County', 'State',\n",
       "       'Zipcode', 'Weather_Timestamp', 'Temperature(F)', 'Wind_Chill(F)',\n",
       "       'Humidity(%)', 'Visibility(mi)', 'Wind_Direction', 'Wind_Speed(mph)',\n",
       "       'Precipitation(in)', 'Weather_Condition', 'Amenity', 'Bump', 'Crossing',\n",
       "       'Give_Way', 'Junction', 'No_Exit', 'Railway', 'Roundabout', 'Station',\n",
       "       'Stop', 'Traffic_Calming', 'Traffic_Signal', 'Turning_Loop',\n",
       "       'Sunrise_Sunset', 'Civil_Twilight'],\n",
       "      dtype='object')"
      ]
     },
     "execution_count": 14,
     "metadata": {},
     "output_type": "execute_result"
    }
   ],
   "source": [
    "UScrashes2_df.columns"
   ]
  },
  {
   "cell_type": "code",
   "execution_count": 15,
   "metadata": {},
   "outputs": [],
   "source": [
    "# UScrashes2_df.describe"
   ]
  },
  {
   "cell_type": "code",
   "execution_count": 16,
   "metadata": {},
   "outputs": [
    {
     "data": {
      "text/plain": [
       "ID                         0\n",
       "Severity                   0\n",
       "Start_Time                 0\n",
       "End_Time                   0\n",
       "Start_Lat                  0\n",
       "Start_Lng                  0\n",
       "Description                1\n",
       "Number                     0\n",
       "Street                     0\n",
       "Side                       0\n",
       "City                      68\n",
       "County                     0\n",
       "State                      0\n",
       "Zipcode                  646\n",
       "Weather_Timestamp      47170\n",
       "Temperature(F)         62265\n",
       "Wind_Chill(F)        1852370\n",
       "Humidity(%)            64467\n",
       "Visibility(mi)         71360\n",
       "Wind_Direction         47190\n",
       "Wind_Speed(mph)       442954\n",
       "Precipitation(in)    1979466\n",
       "Weather_Condition      72004\n",
       "Amenity                    0\n",
       "Bump                       0\n",
       "Crossing                   0\n",
       "Give_Way                   0\n",
       "Junction                   0\n",
       "No_Exit                    0\n",
       "Railway                    0\n",
       "Roundabout                 0\n",
       "Station                    0\n",
       "Stop                       0\n",
       "Traffic_Calming            0\n",
       "Traffic_Signal             0\n",
       "Turning_Loop               0\n",
       "Sunrise_Sunset            78\n",
       "Civil_Twilight            78\n",
       "dtype: int64"
      ]
     },
     "execution_count": 16,
     "metadata": {},
     "output_type": "execute_result"
    }
   ],
   "source": [
    "# counting the number of empty fields (NaN) for each column\n",
    "UScrashes2_df.isnull().sum()"
   ]
  },
  {
   "cell_type": "code",
   "execution_count": 17,
   "metadata": {},
   "outputs": [],
   "source": [
    "UScrashes2_df.to_json(r'US_CrashesJsonified.json')\n",
    "# USdf = pd.read_json(r'USCrashesJsonified.json')"
   ]
  },
  {
   "cell_type": "code",
   "execution_count": 18,
   "metadata": {},
   "outputs": [],
   "source": [
    "UScrashes2_df.to_csv(r'US_crashes.csv')"
   ]
  },
  {
   "cell_type": "code",
   "execution_count": 19,
   "metadata": {},
   "outputs": [],
   "source": [
    "NC_crashes_df = UScrashes2_df[UScrashes2_df[\"State\"] == \"NC\"]"
   ]
  },
  {
   "cell_type": "code",
   "execution_count": 20,
   "metadata": {},
   "outputs": [],
   "source": [
    "# NC_crashes"
   ]
  },
  {
   "cell_type": "code",
   "execution_count": 21,
   "metadata": {},
   "outputs": [],
   "source": [
    "Wake_crashes_df = NC_crashes_df[NC_crashes_df[\"County\"] == \"Wake\"]"
   ]
  },
  {
   "cell_type": "code",
   "execution_count": 22,
   "metadata": {},
   "outputs": [],
   "source": [
    "Mecklenburg_crashes_df = NC_crashes_df[NC_crashes_df[\"County\"] == \"Mecklenburg\"]"
   ]
  },
  {
   "cell_type": "code",
   "execution_count": 23,
   "metadata": {},
   "outputs": [
    {
     "data": {
      "text/plain": [
       "Mecklenburg    55457\n",
       "Wake           40618\n",
       "Guilford        2459\n",
       "Forsyth         1250\n",
       "Durham          1173\n",
       "               ...  \n",
       "Pamlico            2\n",
       "Pasquotank         2\n",
       "Graham             1\n",
       "Chowan             1\n",
       "Camden             1\n",
       "Name: County, Length: 96, dtype: int64"
      ]
     },
     "execution_count": 23,
     "metadata": {},
     "output_type": "execute_result"
    }
   ],
   "source": [
    "County_count= NC_crashes_df['County'].value_counts()\n",
    "County_count"
   ]
  },
  {
   "cell_type": "code",
   "execution_count": 24,
   "metadata": {},
   "outputs": [],
   "source": [
    "NC_crashes_df.to_json(r'NC_CrashesJsonified.json')"
   ]
  },
  {
   "cell_type": "code",
   "execution_count": 33,
   "metadata": {},
   "outputs": [],
   "source": [
    "NC_crashes_df.to_csv(r'NC_Crashes.csv')\n",
    "# NC_crashes_df"
   ]
  },
  {
   "cell_type": "code",
   "execution_count": 26,
   "metadata": {},
   "outputs": [],
   "source": [
    "Wake_crashes_df.to_json(r'Wake_CrashesJsonified.json')"
   ]
  },
  {
   "cell_type": "code",
   "execution_count": 34,
   "metadata": {},
   "outputs": [],
   "source": [
    "Wake_crashes_df.to_csv(r'Wake_Crashes.csv')\n",
    "# Wake_crashes_df"
   ]
  },
  {
   "cell_type": "code",
   "execution_count": 28,
   "metadata": {},
   "outputs": [],
   "source": [
    "Mecklenburg_crashes_df.to_json(r'Mecklenburge_CrashesJsonified.json')"
   ]
  },
  {
   "cell_type": "code",
   "execution_count": 35,
   "metadata": {},
   "outputs": [],
   "source": [
    "Mecklenburg_crashes_df.to_csv(r'Mecklenburg_Crashes.csv')\n",
    "# Mecklenburg_crashes_df"
=======
    "crashes_df"
>>>>>>> f03d4eeafa141512d58258b33ace911700c465c9
   ]
  },
  {
   "cell_type": "code",
   "execution_count": null,
   "metadata": {},
   "outputs": [],
   "source": []
  }
 ],
 "metadata": {
  "kernelspec": {
   "display_name": "Python [conda env:PythonData] *",
   "language": "python",
   "name": "conda-env-PythonData-py"
  },
  "language_info": {
   "codemirror_mode": {
    "name": "ipython",
    "version": 3
   },
   "file_extension": ".py",
   "mimetype": "text/x-python",
   "name": "python",
   "nbconvert_exporter": "python",
   "pygments_lexer": "ipython3",
   "version": "3.6.9"
  }
 },
 "nbformat": 4,
 "nbformat_minor": 2
}
